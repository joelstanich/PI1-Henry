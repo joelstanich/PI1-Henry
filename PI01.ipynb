{
 "cells": [
  {
   "cell_type": "code",
   "execution_count": 85,
   "metadata": {},
   "outputs": [],
   "source": [
    "#import pandas\n",
    "import pandas as pd\n",
    "import numpy as np\n"
   ]
  },
  {
   "cell_type": "code",
   "execution_count": 94,
   "metadata": {},
   "outputs": [],
   "source": [
    "#abro el archivo csv\n",
    "df_PS_20200413=pd.read_csv('C:\\\\Users\\\\HP\\\\Documents\\\\Data Science\\\\Datasets PI1\\\\precios_semana_20200413.csv', sep=',', decimal='.', encoding='utf-16')\n"
   ]
  },
  {
   "cell_type": "code",
   "execution_count": 95,
   "metadata": {},
   "outputs": [
    {
     "data": {
      "text/html": [
       "<div>\n",
       "<style scoped>\n",
       "    .dataframe tbody tr th:only-of-type {\n",
       "        vertical-align: middle;\n",
       "    }\n",
       "\n",
       "    .dataframe tbody tr th {\n",
       "        vertical-align: top;\n",
       "    }\n",
       "\n",
       "    .dataframe thead th {\n",
       "        text-align: right;\n",
       "    }\n",
       "</style>\n",
       "<table border=\"1\" class=\"dataframe\">\n",
       "  <thead>\n",
       "    <tr style=\"text-align: right;\">\n",
       "      <th></th>\n",
       "      <th>precio</th>\n",
       "      <th>producto_id</th>\n",
       "      <th>sucursal_id</th>\n",
       "    </tr>\n",
       "  </thead>\n",
       "  <tbody>\n",
       "    <tr>\n",
       "      <th>0</th>\n",
       "      <td>29.90</td>\n",
       "      <td>0000000001663</td>\n",
       "      <td>2-1-014</td>\n",
       "    </tr>\n",
       "    <tr>\n",
       "      <th>1</th>\n",
       "      <td>29.90</td>\n",
       "      <td>0000000002288</td>\n",
       "      <td>2-1-032</td>\n",
       "    </tr>\n",
       "    <tr>\n",
       "      <th>2</th>\n",
       "      <td>39.90</td>\n",
       "      <td>0000000002288</td>\n",
       "      <td>2-1-096</td>\n",
       "    </tr>\n",
       "    <tr>\n",
       "      <th>3</th>\n",
       "      <td>499.99</td>\n",
       "      <td>0000000205870</td>\n",
       "      <td>9-1-686</td>\n",
       "    </tr>\n",
       "    <tr>\n",
       "      <th>4</th>\n",
       "      <td>519.99</td>\n",
       "      <td>0000000205870</td>\n",
       "      <td>9-2-248</td>\n",
       "    </tr>\n",
       "  </tbody>\n",
       "</table>\n",
       "</div>"
      ],
      "text/plain": [
       "   precio    producto_id sucursal_id\n",
       "0   29.90  0000000001663     2-1-014\n",
       "1   29.90  0000000002288     2-1-032\n",
       "2   39.90  0000000002288     2-1-096\n",
       "3  499.99  0000000205870     9-1-686\n",
       "4  519.99  0000000205870     9-2-248"
      ]
     },
     "execution_count": 95,
     "metadata": {},
     "output_type": "execute_result"
    }
   ],
   "source": [
    "#Visualizo el df\n",
    "df_PS_20200413.head()\n"
   ]
  },
  {
   "cell_type": "code",
   "execution_count": 96,
   "metadata": {},
   "outputs": [
    {
     "data": {
      "text/plain": [
       "precio         13\n",
       "producto_id    15\n",
       "sucursal_id    15\n",
       "dtype: int64"
      ]
     },
     "execution_count": 96,
     "metadata": {},
     "output_type": "execute_result"
    }
   ],
   "source": [
    "#Verifico cantidad de vacios\n",
    "df_PS_20200413.isna().sum()"
   ]
  },
  {
   "cell_type": "code",
   "execution_count": 97,
   "metadata": {},
   "outputs": [
    {
     "data": {
      "text/plain": [
       "precio         13\n",
       "producto_id    15\n",
       "sucursal_id    15\n",
       "dtype: int64"
      ]
     },
     "execution_count": 97,
     "metadata": {},
     "output_type": "execute_result"
    }
   ],
   "source": [
    "df_PS_20200413.isnull().sum()"
   ]
  },
  {
   "cell_type": "code",
   "execution_count": 20,
   "metadata": {},
   "outputs": [],
   "source": [
    "#por el analisis realizado del Data Frame\n",
    "# Elimino las filas con datos faltantes\n",
    "df_PS_20200413.dropna(inplace = True) "
   ]
  },
  {
   "cell_type": "code",
   "execution_count": 21,
   "metadata": {},
   "outputs": [
    {
     "data": {
      "text/plain": [
       "precio         472125\n",
       "producto_id    472125\n",
       "sucursal_id    472125\n",
       "dtype: int64"
      ]
     },
     "execution_count": 21,
     "metadata": {},
     "output_type": "execute_result"
    }
   ],
   "source": [
    "df_PS_20200413.count()"
   ]
  },
  {
   "cell_type": "code",
   "execution_count": 22,
   "metadata": {},
   "outputs": [],
   "source": [
    "df_PS_20200413.drop_duplicates(inplace=True)"
   ]
  },
  {
   "cell_type": "code",
   "execution_count": 23,
   "metadata": {},
   "outputs": [
    {
     "data": {
      "text/plain": [
       "precio         0\n",
       "producto_id    0\n",
       "sucursal_id    0\n",
       "dtype: int64"
      ]
     },
     "execution_count": 23,
     "metadata": {},
     "output_type": "execute_result"
    }
   ],
   "source": [
    "#Verifico cantidad de vacios nuevamente\n",
    "df_PS_20200413.isna().sum()"
   ]
  },
  {
   "cell_type": "code",
   "execution_count": 24,
   "metadata": {},
   "outputs": [],
   "source": [
    "#Elaboro función para quitar digitos excedentes en Datos\n",
    "def saca_digitos(x):\n",
    "    if type(x) != \"str\" :\n",
    "        x = str(x)\n",
    "    if (x.find(\"-\") != -1):\n",
    "        return x.split(\"-\")[2]\n",
    "    return x"
   ]
  },
  {
   "cell_type": "code",
   "execution_count": 25,
   "metadata": {},
   "outputs": [],
   "source": [
    "#Aplico la función id_P en columna producto_id\n",
    "df_PS_20200413[\"producto_id\"]=df_PS_20200413[\"producto_id\"].apply(saca_digitos)"
   ]
  },
  {
   "cell_type": "code",
   "execution_count": 26,
   "metadata": {},
   "outputs": [],
   "source": [
    "df_PS_20200413.to_csv('precios_semana_20200413.csv', sep=',', index=False)\n"
   ]
  },
  {
   "cell_type": "code",
   "execution_count": 27,
   "metadata": {},
   "outputs": [
    {
     "data": {
      "text/plain": [
       "precio              449.0\n",
       "producto_id    5289925440\n",
       "sucursal_id        49-1-2\n",
       "Name: 6174, dtype: object"
      ]
     },
     "execution_count": 27,
     "metadata": {},
     "output_type": "execute_result"
    }
   ],
   "source": [
    "df_PS_20200413.iloc[6174]"
   ]
  },
  {
   "cell_type": "code",
   "execution_count": 28,
   "metadata": {},
   "outputs": [
    {
     "data": {
      "text/plain": [
       "precio               69.9\n",
       "producto_id    5030480013\n",
       "sucursal_id         8-1-8\n",
       "Name: 6173, dtype: object"
      ]
     },
     "execution_count": 28,
     "metadata": {},
     "output_type": "execute_result"
    }
   ],
   "source": [
    "df_PS_20200413.iloc[6173]"
   ]
  },
  {
   "cell_type": "code",
   "execution_count": 29,
   "metadata": {},
   "outputs": [
    {
     "data": {
      "text/plain": [
       "precio         float64\n",
       "producto_id     object\n",
       "sucursal_id     object\n",
       "dtype: object"
      ]
     },
     "execution_count": 29,
     "metadata": {},
     "output_type": "execute_result"
    }
   ],
   "source": [
    "df_PS_20200413.dtypes"
   ]
  },
  {
   "cell_type": "code",
   "execution_count": null,
   "metadata": {},
   "outputs": [],
   "source": []
  },
  {
   "cell_type": "markdown",
   "metadata": {},
   "source": [
    "Finaliza la limpieza de datos del archivo precios_semana_20200413\n"
   ]
  },
  {
   "cell_type": "markdown",
   "metadata": {},
   "source": [
    "Comienza la limpieza de datos del archivo precios_semana_20200503\n"
   ]
  },
  {
   "cell_type": "code",
   "execution_count": 30,
   "metadata": {},
   "outputs": [
    {
     "data": {
      "text/html": [
       "<div>\n",
       "<style scoped>\n",
       "    .dataframe tbody tr th:only-of-type {\n",
       "        vertical-align: middle;\n",
       "    }\n",
       "\n",
       "    .dataframe tbody tr th {\n",
       "        vertical-align: top;\n",
       "    }\n",
       "\n",
       "    .dataframe thead th {\n",
       "        text-align: right;\n",
       "    }\n",
       "</style>\n",
       "<table border=\"1\" class=\"dataframe\">\n",
       "  <thead>\n",
       "    <tr style=\"text-align: right;\">\n",
       "      <th></th>\n",
       "      <th>precio</th>\n",
       "      <th>producto_id</th>\n",
       "      <th>sucursal_id</th>\n",
       "    </tr>\n",
       "  </thead>\n",
       "  <tbody>\n",
       "    <tr>\n",
       "      <th>0</th>\n",
       "      <td>29.9</td>\n",
       "      <td>0000000002288</td>\n",
       "      <td>2-1-187</td>\n",
       "    </tr>\n",
       "    <tr>\n",
       "      <th>1</th>\n",
       "      <td>39.9</td>\n",
       "      <td>0000000002288</td>\n",
       "      <td>2-3-247</td>\n",
       "    </tr>\n",
       "    <tr>\n",
       "      <th>2</th>\n",
       "      <td>499.99</td>\n",
       "      <td>0000000205870</td>\n",
       "      <td>9-1-685</td>\n",
       "    </tr>\n",
       "    <tr>\n",
       "      <th>3</th>\n",
       "      <td>539.99</td>\n",
       "      <td>0000000205870</td>\n",
       "      <td>9-2-22</td>\n",
       "    </tr>\n",
       "    <tr>\n",
       "      <th>4</th>\n",
       "      <td>519.99</td>\n",
       "      <td>0000000205870</td>\n",
       "      <td>9-2-59</td>\n",
       "    </tr>\n",
       "  </tbody>\n",
       "</table>\n",
       "</div>"
      ],
      "text/plain": [
       "   precio    producto_id sucursal_id\n",
       "0    29.9  0000000002288     2-1-187\n",
       "1    39.9  0000000002288     2-3-247\n",
       "2  499.99  0000000205870     9-1-685\n",
       "3  539.99  0000000205870      9-2-22\n",
       "4  519.99  0000000205870      9-2-59"
      ]
     },
     "execution_count": 30,
     "metadata": {},
     "output_type": "execute_result"
    }
   ],
   "source": [
    "#accedo al archivo .json\n",
    "df_PS_20200503=pd.read_json('C:\\\\Users\\\\HP\\\\Documents\\\\Data Science\\\\Datasets PI1\\\\precios_semana_20200503.json')\n",
    "df_PS_20200503.head()"
   ]
  },
  {
   "cell_type": "code",
   "execution_count": 31,
   "metadata": {},
   "outputs": [],
   "source": [
    "#convierto los datos de la columna producto_id en numericos\n",
    "df_PS_20200503['producto_id'] = pd.to_numeric(df_PS_20200503['producto_id'], errors='coerce')"
   ]
  },
  {
   "cell_type": "code",
   "execution_count": 32,
   "metadata": {},
   "outputs": [
    {
     "name": "stderr",
     "output_type": "stream",
     "text": [
      "C:\\Users\\HP\\AppData\\Local\\Temp\\ipykernel_5356\\1231557178.py:3: UserWarning: Pandas doesn't allow columns to be created via a new attribute name - see https://pandas.pydata.org/pandas-docs/stable/indexing.html#attribute-access\n",
      "  df_PS_20200503.csv=pd.read_csv('/Users/HP/Documents/Data Science/Datasets PI1/precios_semana_20200503.csv', sep=',', decimal='.', encoding='utf-8')\n"
     ]
    }
   ],
   "source": [
    "#convierto el .json en .csv\n",
    "df_PS_20200503.to_csv('C:\\\\Users\\\\HP\\\\Documents\\\\Data Science\\\\Datasets PI1\\\\precios_semana_20200503.csv', index=False)\n",
    "df_PS_20200503.csv=pd.read_csv('/Users/HP/Documents/Data Science/Datasets PI1/precios_semana_20200503.csv', sep=',', decimal='.', encoding='utf-8')"
   ]
  },
  {
   "cell_type": "code",
   "execution_count": 33,
   "metadata": {},
   "outputs": [
    {
     "data": {
      "text/html": [
       "<div>\n",
       "<style scoped>\n",
       "    .dataframe tbody tr th:only-of-type {\n",
       "        vertical-align: middle;\n",
       "    }\n",
       "\n",
       "    .dataframe tbody tr th {\n",
       "        vertical-align: top;\n",
       "    }\n",
       "\n",
       "    .dataframe thead th {\n",
       "        text-align: right;\n",
       "    }\n",
       "</style>\n",
       "<table border=\"1\" class=\"dataframe\">\n",
       "  <thead>\n",
       "    <tr style=\"text-align: right;\">\n",
       "      <th></th>\n",
       "      <th>precio</th>\n",
       "      <th>producto_id</th>\n",
       "      <th>sucursal_id</th>\n",
       "    </tr>\n",
       "  </thead>\n",
       "  <tbody>\n",
       "    <tr>\n",
       "      <th>0</th>\n",
       "      <td>29.9</td>\n",
       "      <td>2288.0</td>\n",
       "      <td>2-1-187</td>\n",
       "    </tr>\n",
       "    <tr>\n",
       "      <th>1</th>\n",
       "      <td>39.9</td>\n",
       "      <td>2288.0</td>\n",
       "      <td>2-3-247</td>\n",
       "    </tr>\n",
       "    <tr>\n",
       "      <th>2</th>\n",
       "      <td>499.99</td>\n",
       "      <td>205870.0</td>\n",
       "      <td>9-1-685</td>\n",
       "    </tr>\n",
       "    <tr>\n",
       "      <th>3</th>\n",
       "      <td>539.99</td>\n",
       "      <td>205870.0</td>\n",
       "      <td>9-2-22</td>\n",
       "    </tr>\n",
       "    <tr>\n",
       "      <th>4</th>\n",
       "      <td>519.99</td>\n",
       "      <td>205870.0</td>\n",
       "      <td>9-2-59</td>\n",
       "    </tr>\n",
       "  </tbody>\n",
       "</table>\n",
       "</div>"
      ],
      "text/plain": [
       "   precio  producto_id sucursal_id\n",
       "0    29.9       2288.0     2-1-187\n",
       "1    39.9       2288.0     2-3-247\n",
       "2  499.99     205870.0     9-1-685\n",
       "3  539.99     205870.0      9-2-22\n",
       "4  519.99     205870.0      9-2-59"
      ]
     },
     "execution_count": 33,
     "metadata": {},
     "output_type": "execute_result"
    }
   ],
   "source": [
    "df_PS_20200503.head()"
   ]
  },
  {
   "cell_type": "code",
   "execution_count": 34,
   "metadata": {},
   "outputs": [],
   "source": [
    "df_PS_20200503.drop_duplicates(inplace=True)"
   ]
  },
  {
   "cell_type": "code",
   "execution_count": 35,
   "metadata": {},
   "outputs": [
    {
     "data": {
      "text/plain": [
       "precio            0\n",
       "producto_id    8814\n",
       "sucursal_id       0\n",
       "dtype: int64"
      ]
     },
     "execution_count": 35,
     "metadata": {},
     "output_type": "execute_result"
    }
   ],
   "source": [
    "#consulto Faltantes\n",
    "df_PS_20200503.isna().sum()"
   ]
  },
  {
   "cell_type": "code",
   "execution_count": 36,
   "metadata": {},
   "outputs": [],
   "source": [
    "df_PS_20200503.dropna(inplace = True) "
   ]
  },
  {
   "cell_type": "code",
   "execution_count": 37,
   "metadata": {},
   "outputs": [],
   "source": [
    "df_PS_20200503.to_csv('C:\\\\Users\\\\HP\\\\Documents\\\\Data Science\\\\Datasets PI1\\\\precios_semana_20200503.csv', index=False)"
   ]
  },
  {
   "cell_type": "code",
   "execution_count": 38,
   "metadata": {},
   "outputs": [],
   "source": [
    "# convierto el .txt a .csv\n",
    "df_PS_20200518=pd.read_csv('C:\\\\Users\\\\HP\\\\Documents\\\\Data Science\\\\Datasets PI1\\\\precios_semana_20200518.txt', sep='|')\n",
    "\n"
   ]
  },
  {
   "cell_type": "code",
   "execution_count": 39,
   "metadata": {},
   "outputs": [
    {
     "data": {
      "text/html": [
       "<div>\n",
       "<style scoped>\n",
       "    .dataframe tbody tr th:only-of-type {\n",
       "        vertical-align: middle;\n",
       "    }\n",
       "\n",
       "    .dataframe tbody tr th {\n",
       "        vertical-align: top;\n",
       "    }\n",
       "\n",
       "    .dataframe thead th {\n",
       "        text-align: right;\n",
       "    }\n",
       "</style>\n",
       "<table border=\"1\" class=\"dataframe\">\n",
       "  <thead>\n",
       "    <tr style=\"text-align: right;\">\n",
       "      <th></th>\n",
       "      <th>precio</th>\n",
       "      <th>producto_id</th>\n",
       "      <th>sucursal_id</th>\n",
       "    </tr>\n",
       "  </thead>\n",
       "  <tbody>\n",
       "    <tr>\n",
       "      <th>0</th>\n",
       "      <td>29.90</td>\n",
       "      <td>0000000002288</td>\n",
       "      <td>2-1-009</td>\n",
       "    </tr>\n",
       "    <tr>\n",
       "      <th>1</th>\n",
       "      <td>32.90</td>\n",
       "      <td>0000000002288</td>\n",
       "      <td>2-1-037</td>\n",
       "    </tr>\n",
       "    <tr>\n",
       "      <th>2</th>\n",
       "      <td>36.90</td>\n",
       "      <td>0000000002288</td>\n",
       "      <td>2-1-090</td>\n",
       "    </tr>\n",
       "    <tr>\n",
       "      <th>3</th>\n",
       "      <td>39.90</td>\n",
       "      <td>0000000002288</td>\n",
       "      <td>2-3-247</td>\n",
       "    </tr>\n",
       "    <tr>\n",
       "      <th>4</th>\n",
       "      <td>499.99</td>\n",
       "      <td>0000000205870</td>\n",
       "      <td>9-1-430</td>\n",
       "    </tr>\n",
       "  </tbody>\n",
       "</table>\n",
       "</div>"
      ],
      "text/plain": [
       "   precio    producto_id sucursal_id\n",
       "0   29.90  0000000002288     2-1-009\n",
       "1   32.90  0000000002288     2-1-037\n",
       "2   36.90  0000000002288     2-1-090\n",
       "3   39.90  0000000002288     2-3-247\n",
       "4  499.99  0000000205870     9-1-430"
      ]
     },
     "execution_count": 39,
     "metadata": {},
     "output_type": "execute_result"
    }
   ],
   "source": [
    "#pre visualizo el df\n",
    "df_PS_20200518.head()\n"
   ]
  },
  {
   "cell_type": "code",
   "execution_count": 40,
   "metadata": {},
   "outputs": [
    {
     "data": {
      "text/plain": [
       "precio         1960\n",
       "producto_id       6\n",
       "sucursal_id       6\n",
       "dtype: int64"
      ]
     },
     "execution_count": 40,
     "metadata": {},
     "output_type": "execute_result"
    }
   ],
   "source": [
    "#Verifico datos en blanco\n",
    "df_PS_20200518.isna().sum()"
   ]
  },
  {
   "cell_type": "code",
   "execution_count": 41,
   "metadata": {},
   "outputs": [
    {
     "data": {
      "text/plain": [
       "precio         0\n",
       "producto_id    0\n",
       "sucursal_id    0\n",
       "dtype: int64"
      ]
     },
     "execution_count": 41,
     "metadata": {},
     "output_type": "execute_result"
    }
   ],
   "source": [
    "#elimino los datos faltantes y luego verifico\n",
    "df_PS_20200518.dropna(inplace = True) \n",
    "df_PS_20200518.isna().sum()"
   ]
  },
  {
   "cell_type": "code",
   "execution_count": 42,
   "metadata": {},
   "outputs": [],
   "source": [
    "#Aplico funcion para quitar digitos\n",
    "df_PS_20200518[\"producto_id\"]=df_PS_20200518[\"producto_id\"].apply(saca_digitos)"
   ]
  },
  {
   "cell_type": "code",
   "execution_count": 43,
   "metadata": {},
   "outputs": [],
   "source": [
    "df_PS_20200518.drop_duplicates(inplace=True)"
   ]
  },
  {
   "cell_type": "code",
   "execution_count": 44,
   "metadata": {},
   "outputs": [],
   "source": [
    "#Genero el csv\n",
    "df_PS_20200518.to_csv('C:\\\\Users\\\\HP\\\\Documents\\\\Data Science\\\\Datasets PI1\\\\precios_semana_20200518.csv', index=False)"
   ]
  },
  {
   "cell_type": "code",
   "execution_count": 45,
   "metadata": {},
   "outputs": [
    {
     "data": {
      "text/html": [
       "<div>\n",
       "<style scoped>\n",
       "    .dataframe tbody tr th:only-of-type {\n",
       "        vertical-align: middle;\n",
       "    }\n",
       "\n",
       "    .dataframe tbody tr th {\n",
       "        vertical-align: top;\n",
       "    }\n",
       "\n",
       "    .dataframe thead th {\n",
       "        text-align: right;\n",
       "    }\n",
       "</style>\n",
       "<table border=\"1\" class=\"dataframe\">\n",
       "  <thead>\n",
       "    <tr style=\"text-align: right;\">\n",
       "      <th></th>\n",
       "      <th>precio</th>\n",
       "      <th>producto_id</th>\n",
       "      <th>sucursal_id</th>\n",
       "    </tr>\n",
       "  </thead>\n",
       "  <tbody>\n",
       "    <tr>\n",
       "      <th>0</th>\n",
       "      <td>29.90</td>\n",
       "      <td>0000000002288</td>\n",
       "      <td>2-1-009</td>\n",
       "    </tr>\n",
       "    <tr>\n",
       "      <th>1</th>\n",
       "      <td>32.90</td>\n",
       "      <td>0000000002288</td>\n",
       "      <td>2-1-037</td>\n",
       "    </tr>\n",
       "    <tr>\n",
       "      <th>2</th>\n",
       "      <td>36.90</td>\n",
       "      <td>0000000002288</td>\n",
       "      <td>2-1-090</td>\n",
       "    </tr>\n",
       "    <tr>\n",
       "      <th>3</th>\n",
       "      <td>39.90</td>\n",
       "      <td>0000000002288</td>\n",
       "      <td>2-3-247</td>\n",
       "    </tr>\n",
       "    <tr>\n",
       "      <th>4</th>\n",
       "      <td>499.99</td>\n",
       "      <td>0000000205870</td>\n",
       "      <td>9-1-430</td>\n",
       "    </tr>\n",
       "  </tbody>\n",
       "</table>\n",
       "</div>"
      ],
      "text/plain": [
       "   precio    producto_id sucursal_id\n",
       "0   29.90  0000000002288     2-1-009\n",
       "1   32.90  0000000002288     2-1-037\n",
       "2   36.90  0000000002288     2-1-090\n",
       "3   39.90  0000000002288     2-3-247\n",
       "4  499.99  0000000205870     9-1-430"
      ]
     },
     "execution_count": 45,
     "metadata": {},
     "output_type": "execute_result"
    }
   ],
   "source": [
    "#previsualizo el DF\n",
    "df_PS_20200518.head()"
   ]
  },
  {
   "cell_type": "code",
   "execution_count": 46,
   "metadata": {},
   "outputs": [],
   "source": [
    "#importo libreria openpyxl para convertir .XLSX en .CSV\n",
    "import openpyxl as xlsx\n",
    "\n",
    "df_PS_20200419=pd.read_excel('C:\\\\Users\\\\HP\\\\Documents\\\\Data Science\\\\Datasets PI1\\\\precios_semanas_20200419_20200426.xlsx','precios_20200419_20200419')\n",
    "\n",
    "df_PS_20200419.to_csv('C:\\\\Users\\\\HP\\\\Documents\\\\Data Science\\\\Datasets PI1\\\\precios_semana_20200419.csv', index=False)\n"
   ]
  },
  {
   "cell_type": "code",
   "execution_count": 47,
   "metadata": {},
   "outputs": [
    {
     "data": {
      "text/plain": [
       "precio         1807\n",
       "sucursal_id       0\n",
       "producto_id       0\n",
       "dtype: int64"
      ]
     },
     "execution_count": 47,
     "metadata": {},
     "output_type": "execute_result"
    }
   ],
   "source": [
    "#verifico los vacios\n",
    "df_PS_20200419.isna().sum()"
   ]
  },
  {
   "cell_type": "code",
   "execution_count": 48,
   "metadata": {},
   "outputs": [],
   "source": [
    "#elimino los vacios\n",
    "df_PS_20200419.dropna(inplace = True) "
   ]
  },
  {
   "cell_type": "code",
   "execution_count": 49,
   "metadata": {},
   "outputs": [],
   "source": [
    "df_PS_20200419.drop_duplicates(inplace=True)"
   ]
  },
  {
   "cell_type": "code",
   "execution_count": 50,
   "metadata": {},
   "outputs": [
    {
     "data": {
      "text/plain": [
       "precio         0\n",
       "sucursal_id    0\n",
       "producto_id    0\n",
       "dtype: int64"
      ]
     },
     "execution_count": 50,
     "metadata": {},
     "output_type": "execute_result"
    }
   ],
   "source": [
    "#verifico los vacios\n",
    "df_PS_20200419.isna().sum()"
   ]
  },
  {
   "cell_type": "code",
   "execution_count": 51,
   "metadata": {},
   "outputs": [
    {
     "data": {
      "text/html": [
       "<div>\n",
       "<style scoped>\n",
       "    .dataframe tbody tr th:only-of-type {\n",
       "        vertical-align: middle;\n",
       "    }\n",
       "\n",
       "    .dataframe tbody tr th {\n",
       "        vertical-align: top;\n",
       "    }\n",
       "\n",
       "    .dataframe thead th {\n",
       "        text-align: right;\n",
       "    }\n",
       "</style>\n",
       "<table border=\"1\" class=\"dataframe\">\n",
       "  <thead>\n",
       "    <tr style=\"text-align: right;\">\n",
       "      <th></th>\n",
       "      <th>precio</th>\n",
       "      <th>sucursal_id</th>\n",
       "      <th>producto_id</th>\n",
       "    </tr>\n",
       "  </thead>\n",
       "  <tbody>\n",
       "    <tr>\n",
       "      <th>0</th>\n",
       "      <td>29.90</td>\n",
       "      <td>2-1-184</td>\n",
       "      <td>2288</td>\n",
       "    </tr>\n",
       "    <tr>\n",
       "      <th>1</th>\n",
       "      <td>39.90</td>\n",
       "      <td>2-1-206</td>\n",
       "      <td>2288</td>\n",
       "    </tr>\n",
       "    <tr>\n",
       "      <th>2</th>\n",
       "      <td>499.99</td>\n",
       "      <td>9-1-430</td>\n",
       "      <td>205870</td>\n",
       "    </tr>\n",
       "    <tr>\n",
       "      <th>3</th>\n",
       "      <td>539.99</td>\n",
       "      <td>9-2-107</td>\n",
       "      <td>205870</td>\n",
       "    </tr>\n",
       "    <tr>\n",
       "      <th>4</th>\n",
       "      <td>539.99</td>\n",
       "      <td>5218-03-09 00:00:00</td>\n",
       "      <td>205870</td>\n",
       "    </tr>\n",
       "  </tbody>\n",
       "</table>\n",
       "</div>"
      ],
      "text/plain": [
       "   precio          sucursal_id producto_id\n",
       "0   29.90              2-1-184        2288\n",
       "1   39.90              2-1-206        2288\n",
       "2  499.99              9-1-430      205870\n",
       "3  539.99              9-2-107      205870\n",
       "4  539.99  5218-03-09 00:00:00      205870"
      ]
     },
     "execution_count": 51,
     "metadata": {},
     "output_type": "execute_result"
    }
   ],
   "source": [
    "df_PS_20200419.head()"
   ]
  },
  {
   "cell_type": "code",
   "execution_count": 52,
   "metadata": {},
   "outputs": [],
   "source": [
    "#aplico funcion lambda en cambio a str\n",
    "df_PS_20200419.sucursal_id=df_PS_20200419.sucursal_id.apply(lambda _: str(_))\n"
   ]
  },
  {
   "cell_type": "code",
   "execution_count": 53,
   "metadata": {},
   "outputs": [],
   "source": [
    "#elimino los digitos incorrectos en columna sucursal_id\n",
    "df_PS_20200419['sucursal_id']=df_PS_20200419['sucursal_id'].apply(lambda x: x.split(' ')[0])"
   ]
  },
  {
   "cell_type": "code",
   "execution_count": 54,
   "metadata": {},
   "outputs": [
    {
     "data": {
      "text/html": [
       "<div>\n",
       "<style scoped>\n",
       "    .dataframe tbody tr th:only-of-type {\n",
       "        vertical-align: middle;\n",
       "    }\n",
       "\n",
       "    .dataframe tbody tr th {\n",
       "        vertical-align: top;\n",
       "    }\n",
       "\n",
       "    .dataframe thead th {\n",
       "        text-align: right;\n",
       "    }\n",
       "</style>\n",
       "<table border=\"1\" class=\"dataframe\">\n",
       "  <thead>\n",
       "    <tr style=\"text-align: right;\">\n",
       "      <th></th>\n",
       "      <th>precio</th>\n",
       "      <th>sucursal_id</th>\n",
       "      <th>producto_id</th>\n",
       "    </tr>\n",
       "  </thead>\n",
       "  <tbody>\n",
       "    <tr>\n",
       "      <th>0</th>\n",
       "      <td>29.90</td>\n",
       "      <td>2-1-184</td>\n",
       "      <td>2288</td>\n",
       "    </tr>\n",
       "    <tr>\n",
       "      <th>1</th>\n",
       "      <td>39.90</td>\n",
       "      <td>2-1-206</td>\n",
       "      <td>2288</td>\n",
       "    </tr>\n",
       "    <tr>\n",
       "      <th>2</th>\n",
       "      <td>499.99</td>\n",
       "      <td>9-1-430</td>\n",
       "      <td>205870</td>\n",
       "    </tr>\n",
       "    <tr>\n",
       "      <th>3</th>\n",
       "      <td>539.99</td>\n",
       "      <td>9-2-107</td>\n",
       "      <td>205870</td>\n",
       "    </tr>\n",
       "    <tr>\n",
       "      <th>4</th>\n",
       "      <td>539.99</td>\n",
       "      <td>5218-03-09</td>\n",
       "      <td>205870</td>\n",
       "    </tr>\n",
       "  </tbody>\n",
       "</table>\n",
       "</div>"
      ],
      "text/plain": [
       "   precio sucursal_id producto_id\n",
       "0   29.90     2-1-184        2288\n",
       "1   39.90     2-1-206        2288\n",
       "2  499.99     9-1-430      205870\n",
       "3  539.99     9-2-107      205870\n",
       "4  539.99  5218-03-09      205870"
      ]
     },
     "execution_count": 54,
     "metadata": {},
     "output_type": "execute_result"
    }
   ],
   "source": [
    "df_PS_20200419.head()"
   ]
  },
  {
   "cell_type": "code",
   "execution_count": 55,
   "metadata": {},
   "outputs": [
    {
     "data": {
      "text/plain": [
       "Index(['precio', 'producto_id', 'sucursal_id'], dtype='object')"
      ]
     },
     "execution_count": 55,
     "metadata": {},
     "output_type": "execute_result"
    }
   ],
   "source": [
    "#Reordeno las columas\n",
    "df_PS_20200419= df_PS_20200419[['precio','producto_id','sucursal_id']]\n",
    "df_PS_20200419.columns"
   ]
  },
  {
   "cell_type": "code",
   "execution_count": 56,
   "metadata": {},
   "outputs": [
    {
     "data": {
      "text/html": [
       "<div>\n",
       "<style scoped>\n",
       "    .dataframe tbody tr th:only-of-type {\n",
       "        vertical-align: middle;\n",
       "    }\n",
       "\n",
       "    .dataframe tbody tr th {\n",
       "        vertical-align: top;\n",
       "    }\n",
       "\n",
       "    .dataframe thead th {\n",
       "        text-align: right;\n",
       "    }\n",
       "</style>\n",
       "<table border=\"1\" class=\"dataframe\">\n",
       "  <thead>\n",
       "    <tr style=\"text-align: right;\">\n",
       "      <th></th>\n",
       "      <th>precio</th>\n",
       "      <th>producto_id</th>\n",
       "      <th>sucursal_id</th>\n",
       "    </tr>\n",
       "  </thead>\n",
       "  <tbody>\n",
       "    <tr>\n",
       "      <th>0</th>\n",
       "      <td>29.90</td>\n",
       "      <td>2288</td>\n",
       "      <td>2-1-184</td>\n",
       "    </tr>\n",
       "    <tr>\n",
       "      <th>1</th>\n",
       "      <td>39.90</td>\n",
       "      <td>2288</td>\n",
       "      <td>2-1-206</td>\n",
       "    </tr>\n",
       "    <tr>\n",
       "      <th>2</th>\n",
       "      <td>499.99</td>\n",
       "      <td>205870</td>\n",
       "      <td>9-1-430</td>\n",
       "    </tr>\n",
       "    <tr>\n",
       "      <th>3</th>\n",
       "      <td>539.99</td>\n",
       "      <td>205870</td>\n",
       "      <td>9-2-107</td>\n",
       "    </tr>\n",
       "    <tr>\n",
       "      <th>4</th>\n",
       "      <td>539.99</td>\n",
       "      <td>205870</td>\n",
       "      <td>5218-03-09</td>\n",
       "    </tr>\n",
       "  </tbody>\n",
       "</table>\n",
       "</div>"
      ],
      "text/plain": [
       "   precio producto_id sucursal_id\n",
       "0   29.90        2288     2-1-184\n",
       "1   39.90        2288     2-1-206\n",
       "2  499.99      205870     9-1-430\n",
       "3  539.99      205870     9-2-107\n",
       "4  539.99      205870  5218-03-09"
      ]
     },
     "execution_count": 56,
     "metadata": {},
     "output_type": "execute_result"
    }
   ],
   "source": [
    "df_PS_20200419.head()"
   ]
  },
  {
   "cell_type": "code",
   "execution_count": 57,
   "metadata": {},
   "outputs": [
    {
     "data": {
      "text/plain": [
       "precio         float64\n",
       "producto_id     object\n",
       "sucursal_id     object\n",
       "dtype: object"
      ]
     },
     "execution_count": 57,
     "metadata": {},
     "output_type": "execute_result"
    }
   ],
   "source": [
    "df_PS_20200419.dtypes"
   ]
  },
  {
   "cell_type": "code",
   "execution_count": 58,
   "metadata": {},
   "outputs": [],
   "source": [
    "#registro cambios en el csv\n",
    "df_PS_20200419.to_csv('C:\\\\Users\\\\HP\\\\Documents\\\\Data Science\\\\Datasets PI1\\\\precios_semana_20200419.csv', index=False)\n"
   ]
  },
  {
   "cell_type": "code",
   "execution_count": 59,
   "metadata": {},
   "outputs": [
    {
     "data": {
      "text/html": [
       "<div>\n",
       "<style scoped>\n",
       "    .dataframe tbody tr th:only-of-type {\n",
       "        vertical-align: middle;\n",
       "    }\n",
       "\n",
       "    .dataframe tbody tr th {\n",
       "        vertical-align: top;\n",
       "    }\n",
       "\n",
       "    .dataframe thead th {\n",
       "        text-align: right;\n",
       "    }\n",
       "</style>\n",
       "<table border=\"1\" class=\"dataframe\">\n",
       "  <thead>\n",
       "    <tr style=\"text-align: right;\">\n",
       "      <th></th>\n",
       "      <th>id</th>\n",
       "      <th>marca</th>\n",
       "      <th>nombre</th>\n",
       "      <th>presentacion</th>\n",
       "      <th>categoria1</th>\n",
       "      <th>categoria2</th>\n",
       "      <th>categoria3</th>\n",
       "    </tr>\n",
       "  </thead>\n",
       "  <tbody>\n",
       "    <tr>\n",
       "      <th>0</th>\n",
       "      <td>0000000001663</td>\n",
       "      <td>LA ANÓNIMA</td>\n",
       "      <td>Radicheta Atada La Anonima 1 Un</td>\n",
       "      <td>1.0 un</td>\n",
       "      <td>None</td>\n",
       "      <td>None</td>\n",
       "      <td>None</td>\n",
       "    </tr>\n",
       "    <tr>\n",
       "      <th>1</th>\n",
       "      <td>0000000002288</td>\n",
       "      <td>LA ANÓNIMA</td>\n",
       "      <td>Perejil Atado La Anonima 1 Un</td>\n",
       "      <td>1.0 un</td>\n",
       "      <td>None</td>\n",
       "      <td>None</td>\n",
       "      <td>None</td>\n",
       "    </tr>\n",
       "    <tr>\n",
       "      <th>2</th>\n",
       "      <td>0000000205870</td>\n",
       "      <td>SIN MARCA</td>\n",
       "      <td>Ojo de Bife 1 Kg</td>\n",
       "      <td>1.0 kg</td>\n",
       "      <td>None</td>\n",
       "      <td>None</td>\n",
       "      <td>None</td>\n",
       "    </tr>\n",
       "    <tr>\n",
       "      <th>3</th>\n",
       "      <td>0000000205894</td>\n",
       "      <td>SIN MARCA</td>\n",
       "      <td>Milanesa de Peceto Novillito 1 Kg</td>\n",
       "      <td>1.0 kg</td>\n",
       "      <td>None</td>\n",
       "      <td>None</td>\n",
       "      <td>None</td>\n",
       "    </tr>\n",
       "    <tr>\n",
       "      <th>4</th>\n",
       "      <td>0000000205955</td>\n",
       "      <td>SIN MARCA</td>\n",
       "      <td>Chiquizuela Novillito 1 Kg</td>\n",
       "      <td>1.0 kg</td>\n",
       "      <td>None</td>\n",
       "      <td>None</td>\n",
       "      <td>None</td>\n",
       "    </tr>\n",
       "  </tbody>\n",
       "</table>\n",
       "</div>"
      ],
      "text/plain": [
       "              id       marca                             nombre presentacion  \\\n",
       "0  0000000001663  LA ANÓNIMA    Radicheta Atada La Anonima 1 Un       1.0 un   \n",
       "1  0000000002288  LA ANÓNIMA      Perejil Atado La Anonima 1 Un       1.0 un   \n",
       "2  0000000205870   SIN MARCA                   Ojo de Bife 1 Kg       1.0 kg   \n",
       "3  0000000205894   SIN MARCA  Milanesa de Peceto Novillito 1 Kg       1.0 kg   \n",
       "4  0000000205955   SIN MARCA         Chiquizuela Novillito 1 Kg       1.0 kg   \n",
       "\n",
       "  categoria1 categoria2 categoria3  \n",
       "0       None       None       None  \n",
       "1       None       None       None  \n",
       "2       None       None       None  \n",
       "3       None       None       None  \n",
       "4       None       None       None  "
      ]
     },
     "execution_count": 59,
     "metadata": {},
     "output_type": "execute_result"
    }
   ],
   "source": [
    "#Convierto .parquet en .csv\n",
    "producto=pd.read_parquet('C:\\\\Users\\\\HP\\\\Documents\\\\Data Science\\\\Datasets PI1\\\\producto.parquet')\n",
    "producto.head()"
   ]
  },
  {
   "cell_type": "code",
   "execution_count": 60,
   "metadata": {},
   "outputs": [],
   "source": [
    "producto.to_csv('C:\\\\Users\\\\HP\\\\Documents\\\\Data Science\\\\Datasets PI1\\\\producto.csv', index=False) "
   ]
  },
  {
   "cell_type": "code",
   "execution_count": 61,
   "metadata": {},
   "outputs": [],
   "source": [
    "#renombro columna\n",
    "producto.rename(columns={'id':'producto_id'}, inplace=True)"
   ]
  },
  {
   "cell_type": "code",
   "execution_count": 62,
   "metadata": {},
   "outputs": [
    {
     "data": {
      "text/html": [
       "<div>\n",
       "<style scoped>\n",
       "    .dataframe tbody tr th:only-of-type {\n",
       "        vertical-align: middle;\n",
       "    }\n",
       "\n",
       "    .dataframe tbody tr th {\n",
       "        vertical-align: top;\n",
       "    }\n",
       "\n",
       "    .dataframe thead th {\n",
       "        text-align: right;\n",
       "    }\n",
       "</style>\n",
       "<table border=\"1\" class=\"dataframe\">\n",
       "  <thead>\n",
       "    <tr style=\"text-align: right;\">\n",
       "      <th></th>\n",
       "      <th>producto_id</th>\n",
       "      <th>marca</th>\n",
       "      <th>nombre</th>\n",
       "      <th>presentacion</th>\n",
       "      <th>categoria1</th>\n",
       "      <th>categoria2</th>\n",
       "      <th>categoria3</th>\n",
       "    </tr>\n",
       "  </thead>\n",
       "  <tbody>\n",
       "    <tr>\n",
       "      <th>0</th>\n",
       "      <td>0000000001663</td>\n",
       "      <td>LA ANÓNIMA</td>\n",
       "      <td>Radicheta Atada La Anonima 1 Un</td>\n",
       "      <td>1.0 un</td>\n",
       "      <td>None</td>\n",
       "      <td>None</td>\n",
       "      <td>None</td>\n",
       "    </tr>\n",
       "    <tr>\n",
       "      <th>1</th>\n",
       "      <td>0000000002288</td>\n",
       "      <td>LA ANÓNIMA</td>\n",
       "      <td>Perejil Atado La Anonima 1 Un</td>\n",
       "      <td>1.0 un</td>\n",
       "      <td>None</td>\n",
       "      <td>None</td>\n",
       "      <td>None</td>\n",
       "    </tr>\n",
       "    <tr>\n",
       "      <th>2</th>\n",
       "      <td>0000000205870</td>\n",
       "      <td>SIN MARCA</td>\n",
       "      <td>Ojo de Bife 1 Kg</td>\n",
       "      <td>1.0 kg</td>\n",
       "      <td>None</td>\n",
       "      <td>None</td>\n",
       "      <td>None</td>\n",
       "    </tr>\n",
       "    <tr>\n",
       "      <th>3</th>\n",
       "      <td>0000000205894</td>\n",
       "      <td>SIN MARCA</td>\n",
       "      <td>Milanesa de Peceto Novillito 1 Kg</td>\n",
       "      <td>1.0 kg</td>\n",
       "      <td>None</td>\n",
       "      <td>None</td>\n",
       "      <td>None</td>\n",
       "    </tr>\n",
       "    <tr>\n",
       "      <th>4</th>\n",
       "      <td>0000000205955</td>\n",
       "      <td>SIN MARCA</td>\n",
       "      <td>Chiquizuela Novillito 1 Kg</td>\n",
       "      <td>1.0 kg</td>\n",
       "      <td>None</td>\n",
       "      <td>None</td>\n",
       "      <td>None</td>\n",
       "    </tr>\n",
       "  </tbody>\n",
       "</table>\n",
       "</div>"
      ],
      "text/plain": [
       "     producto_id       marca                             nombre presentacion  \\\n",
       "0  0000000001663  LA ANÓNIMA    Radicheta Atada La Anonima 1 Un       1.0 un   \n",
       "1  0000000002288  LA ANÓNIMA      Perejil Atado La Anonima 1 Un       1.0 un   \n",
       "2  0000000205870   SIN MARCA                   Ojo de Bife 1 Kg       1.0 kg   \n",
       "3  0000000205894   SIN MARCA  Milanesa de Peceto Novillito 1 Kg       1.0 kg   \n",
       "4  0000000205955   SIN MARCA         Chiquizuela Novillito 1 Kg       1.0 kg   \n",
       "\n",
       "  categoria1 categoria2 categoria3  \n",
       "0       None       None       None  \n",
       "1       None       None       None  \n",
       "2       None       None       None  \n",
       "3       None       None       None  \n",
       "4       None       None       None  "
      ]
     },
     "execution_count": 62,
     "metadata": {},
     "output_type": "execute_result"
    }
   ],
   "source": [
    "producto.head()"
   ]
  },
  {
   "cell_type": "code",
   "execution_count": 63,
   "metadata": {},
   "outputs": [],
   "source": [
    "#Aplico la función id_P en columna producto_id\n",
    "producto[\"producto_id\"]=producto[\"producto_id\"].apply(saca_digitos)"
   ]
  },
  {
   "cell_type": "code",
   "execution_count": 64,
   "metadata": {},
   "outputs": [
    {
     "data": {
      "text/plain": [
       "array(['0000000001663', '0000000002288', '0000000205870', ...,\n",
       "       '9990385651922', '9990385651939', '9990385651946'], dtype=object)"
      ]
     },
     "execution_count": 64,
     "metadata": {},
     "output_type": "execute_result"
    }
   ],
   "source": [
    "#verifico duplicados\n",
    "producto[\"producto_id\"].unique()"
   ]
  },
  {
   "cell_type": "code",
   "execution_count": 65,
   "metadata": {},
   "outputs": [
    {
     "data": {
      "text/plain": [
       "0        False\n",
       "1        False\n",
       "2        False\n",
       "3        False\n",
       "4        False\n",
       "         ...  \n",
       "72033    False\n",
       "72034    False\n",
       "72035    False\n",
       "72036    False\n",
       "72037    False\n",
       "Name: producto_id, Length: 72038, dtype: bool"
      ]
     },
     "execution_count": 65,
     "metadata": {},
     "output_type": "execute_result"
    }
   ],
   "source": [
    "producto['producto_id'].duplicated()\n"
   ]
  },
  {
   "cell_type": "code",
   "execution_count": 66,
   "metadata": {},
   "outputs": [],
   "source": [
    "producto.drop_duplicates(inplace=True)"
   ]
  },
  {
   "cell_type": "code",
   "execution_count": 67,
   "metadata": {},
   "outputs": [
    {
     "name": "stdout",
     "output_type": "stream",
     "text": [
      "producto_id     object\n",
      "marca           object\n",
      "nombre          object\n",
      "presentacion    object\n",
      "categoria1      object\n",
      "categoria2      object\n",
      "categoria3      object\n",
      "dtype: object\n"
     ]
    }
   ],
   "source": [
    "print(producto.dtypes)"
   ]
  },
  {
   "cell_type": "code",
   "execution_count": 72,
   "metadata": {},
   "outputs": [],
   "source": [
    "producto.to_csv('C:\\\\Users\\\\HP\\\\Documents\\\\Data Science\\\\Datasets PI1\\\\producto.csv', index=False, sep=',', decimal='.') "
   ]
  },
  {
   "cell_type": "code",
   "execution_count": 73,
   "metadata": {},
   "outputs": [],
   "source": [
    "#trabajo con csv sucursal\n",
    "sucursal=pd.read_csv('C:\\\\Users\\\\HP\\\\Documents\\\\Data Science\\\\Datasets PI1\\\\sucursal.csv')\n"
   ]
  },
  {
   "cell_type": "code",
   "execution_count": 74,
   "metadata": {},
   "outputs": [],
   "source": [
    "#renombro columnas\n",
    "sucursal.rename(columns={'id':'sucursal_id'}, inplace=True)"
   ]
  },
  {
   "cell_type": "code",
   "execution_count": 75,
   "metadata": {},
   "outputs": [
    {
     "data": {
      "text/html": [
       "<div>\n",
       "<style scoped>\n",
       "    .dataframe tbody tr th:only-of-type {\n",
       "        vertical-align: middle;\n",
       "    }\n",
       "\n",
       "    .dataframe tbody tr th {\n",
       "        vertical-align: top;\n",
       "    }\n",
       "\n",
       "    .dataframe thead th {\n",
       "        text-align: right;\n",
       "    }\n",
       "</style>\n",
       "<table border=\"1\" class=\"dataframe\">\n",
       "  <thead>\n",
       "    <tr style=\"text-align: right;\">\n",
       "      <th></th>\n",
       "      <th>sucursal_id</th>\n",
       "      <th>comercioId</th>\n",
       "      <th>banderaId</th>\n",
       "      <th>banderaDescripcion</th>\n",
       "      <th>comercioRazonSocial</th>\n",
       "      <th>provincia</th>\n",
       "      <th>localidad</th>\n",
       "      <th>direccion</th>\n",
       "      <th>lat</th>\n",
       "      <th>lng</th>\n",
       "      <th>sucursalNombre</th>\n",
       "      <th>sucursalTipo</th>\n",
       "    </tr>\n",
       "  </thead>\n",
       "  <tbody>\n",
       "    <tr>\n",
       "      <th>0</th>\n",
       "      <td>1-1-7</td>\n",
       "      <td>1</td>\n",
       "      <td>1</td>\n",
       "      <td>Super MAMI</td>\n",
       "      <td>Dinosaurio S.A.</td>\n",
       "      <td>AR-X</td>\n",
       "      <td>SALSIPUEDES</td>\n",
       "      <td>E53 1011 None</td>\n",
       "      <td>-31.126667</td>\n",
       "      <td>-64.295250</td>\n",
       "      <td>Super Mami 4</td>\n",
       "      <td>Hipermercado</td>\n",
       "    </tr>\n",
       "    <tr>\n",
       "      <th>1</th>\n",
       "      <td>10-1-1</td>\n",
       "      <td>10</td>\n",
       "      <td>1</td>\n",
       "      <td>Hipermercado Carrefour</td>\n",
       "      <td>INC S.A.</td>\n",
       "      <td>AR-B</td>\n",
       "      <td>San Isidro</td>\n",
       "      <td>Bernardo De Irigoyen 2647</td>\n",
       "      <td>-34.491345</td>\n",
       "      <td>-58.589025</td>\n",
       "      <td>San Isidro</td>\n",
       "      <td>Hipermercado</td>\n",
       "    </tr>\n",
       "    <tr>\n",
       "      <th>2</th>\n",
       "      <td>10-1-10</td>\n",
       "      <td>10</td>\n",
       "      <td>1</td>\n",
       "      <td>Hipermercado Carrefour</td>\n",
       "      <td>INC S.A.</td>\n",
       "      <td>AR-B</td>\n",
       "      <td>Hurlingham</td>\n",
       "      <td>Av. Vergara 1910</td>\n",
       "      <td>-34.620610</td>\n",
       "      <td>-58.633769</td>\n",
       "      <td>Villa Tesei</td>\n",
       "      <td>Hipermercado</td>\n",
       "    </tr>\n",
       "    <tr>\n",
       "      <th>3</th>\n",
       "      <td>10-1-11</td>\n",
       "      <td>10</td>\n",
       "      <td>1</td>\n",
       "      <td>Hipermercado Carrefour</td>\n",
       "      <td>INC S.A.</td>\n",
       "      <td>AR-B</td>\n",
       "      <td>Malvinas Argentinas</td>\n",
       "      <td>Av. Arturo Illia 3770</td>\n",
       "      <td>-34.528883</td>\n",
       "      <td>-58.701631</td>\n",
       "      <td>Malvinas Argentinas</td>\n",
       "      <td>Hipermercado</td>\n",
       "    </tr>\n",
       "    <tr>\n",
       "      <th>4</th>\n",
       "      <td>10-1-112</td>\n",
       "      <td>10</td>\n",
       "      <td>1</td>\n",
       "      <td>Hipermercado Carrefour</td>\n",
       "      <td>INC S.A.</td>\n",
       "      <td>AR-A</td>\n",
       "      <td>Salta</td>\n",
       "      <td>20 De Febrero 37</td>\n",
       "      <td>-24.789072</td>\n",
       "      <td>-65.413699</td>\n",
       "      <td>Salta</td>\n",
       "      <td>Hipermercado</td>\n",
       "    </tr>\n",
       "  </tbody>\n",
       "</table>\n",
       "</div>"
      ],
      "text/plain": [
       "  sucursal_id  comercioId  banderaId      banderaDescripcion  \\\n",
       "0       1-1-7           1          1              Super MAMI   \n",
       "1      10-1-1          10          1  Hipermercado Carrefour   \n",
       "2     10-1-10          10          1  Hipermercado Carrefour   \n",
       "3     10-1-11          10          1  Hipermercado Carrefour   \n",
       "4    10-1-112          10          1  Hipermercado Carrefour   \n",
       "\n",
       "  comercioRazonSocial provincia            localidad  \\\n",
       "0     Dinosaurio S.A.      AR-X          SALSIPUEDES   \n",
       "1            INC S.A.      AR-B           San Isidro   \n",
       "2            INC S.A.      AR-B           Hurlingham   \n",
       "3            INC S.A.      AR-B  Malvinas Argentinas   \n",
       "4            INC S.A.      AR-A                Salta   \n",
       "\n",
       "                   direccion        lat        lng       sucursalNombre  \\\n",
       "0              E53 1011 None -31.126667 -64.295250         Super Mami 4   \n",
       "1  Bernardo De Irigoyen 2647 -34.491345 -58.589025           San Isidro   \n",
       "2           Av. Vergara 1910 -34.620610 -58.633769          Villa Tesei   \n",
       "3      Av. Arturo Illia 3770 -34.528883 -58.701631  Malvinas Argentinas   \n",
       "4           20 De Febrero 37 -24.789072 -65.413699                Salta   \n",
       "\n",
       "   sucursalTipo  \n",
       "0  Hipermercado  \n",
       "1  Hipermercado  \n",
       "2  Hipermercado  \n",
       "3  Hipermercado  \n",
       "4  Hipermercado  "
      ]
     },
     "execution_count": 75,
     "metadata": {},
     "output_type": "execute_result"
    }
   ],
   "source": [
    "sucursal.head()"
   ]
  },
  {
   "cell_type": "code",
   "execution_count": 76,
   "metadata": {},
   "outputs": [
    {
     "data": {
      "text/plain": [
       "sucursal_id            0\n",
       "comercioId             0\n",
       "banderaId              0\n",
       "banderaDescripcion     0\n",
       "comercioRazonSocial    0\n",
       "provincia              0\n",
       "localidad              0\n",
       "direccion              0\n",
       "lat                    0\n",
       "lng                    0\n",
       "sucursalNombre         0\n",
       "sucursalTipo           0\n",
       "dtype: int64"
      ]
     },
     "execution_count": 76,
     "metadata": {},
     "output_type": "execute_result"
    }
   ],
   "source": [
    "sucursal.isna().sum()"
   ]
  },
  {
   "cell_type": "code",
   "execution_count": 77,
   "metadata": {},
   "outputs": [
    {
     "data": {
      "text/plain": [
       "sucursal_id            0\n",
       "comercioId             0\n",
       "banderaId              0\n",
       "banderaDescripcion     0\n",
       "comercioRazonSocial    0\n",
       "provincia              0\n",
       "localidad              0\n",
       "direccion              0\n",
       "lat                    0\n",
       "lng                    0\n",
       "sucursalNombre         0\n",
       "sucursalTipo           0\n",
       "dtype: int64"
      ]
     },
     "execution_count": 77,
     "metadata": {},
     "output_type": "execute_result"
    }
   ],
   "source": [
    "sucursal.isnull().sum()"
   ]
  },
  {
   "cell_type": "code",
   "execution_count": 78,
   "metadata": {},
   "outputs": [
    {
     "name": "stdout",
     "output_type": "stream",
     "text": [
      "sucursal_id             object\n",
      "comercioId               int64\n",
      "banderaId                int64\n",
      "banderaDescripcion      object\n",
      "comercioRazonSocial     object\n",
      "provincia               object\n",
      "localidad               object\n",
      "direccion               object\n",
      "lat                    float64\n",
      "lng                    float64\n",
      "sucursalNombre          object\n",
      "sucursalTipo            object\n",
      "dtype: object\n"
     ]
    }
   ],
   "source": [
    "print(sucursal.dtypes)\n"
   ]
  },
  {
   "cell_type": "code",
   "execution_count": 79,
   "metadata": {},
   "outputs": [],
   "source": [
    "sucursal.to_csv('C:\\\\Users\\\\HP\\\\Documents\\\\Data Science\\\\Datasets PI1\\\\sucursal.csv', index=False, sep=',', decimal='.') "
   ]
  },
  {
   "cell_type": "code",
   "execution_count": 84,
   "metadata": {},
   "outputs": [],
   "source": [
    "#concatenacion de los df de precios y conversion en un solo CSV\n",
    "df_precios_compilados=pd.concat([df_PS_20200419, df_PS_20200413, df_PS_20200518, df_PS_20200503])\n",
    "df_precios_compilados.describe\n",
    "df_precios_compilados.to_csv('C:\\\\Users\\\\HP\\\\Documents\\\\Data Science\\\\Datasets PI1\\\\precios_compilados.csv', index=False, sep=',', decimal='.')"
   ]
  }
 ],
 "metadata": {
  "kernelspec": {
   "display_name": "Python 3.10.8 64-bit (microsoft store)",
   "language": "python",
   "name": "python3"
  },
  "language_info": {
   "codemirror_mode": {
    "name": "ipython",
    "version": 3
   },
   "file_extension": ".py",
   "mimetype": "text/x-python",
   "name": "python",
   "nbconvert_exporter": "python",
   "pygments_lexer": "ipython3",
   "version": "3.10.8"
  },
  "orig_nbformat": 4,
  "vscode": {
   "interpreter": {
    "hash": "486e0d5a79acdbfffd563ee7a67a93a5017bd2a4f66495483a69f0245c8a4a6c"
   }
  }
 },
 "nbformat": 4,
 "nbformat_minor": 2
}
